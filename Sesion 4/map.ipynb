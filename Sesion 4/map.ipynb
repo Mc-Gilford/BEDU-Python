{
  "nbformat": 4,
  "nbformat_minor": 0,
  "metadata": {
    "kernelspec": {
      "display_name": "Python 3",
      "language": "python",
      "name": "python3"
    },
    "language_info": {
      "codemirror_mode": {
        "name": "ipython",
        "version": 3
      },
      "file_extension": ".py",
      "mimetype": "text/x-python",
      "name": "python",
      "nbconvert_exporter": "python",
      "pygments_lexer": "ipython3",
      "version": "3.8.3"
    },
    "colab": {
      "name": "map.ipynb",
      "provenance": []
    }
  },
  "cells": [
    {
      "cell_type": "markdown",
      "metadata": {
        "id": "xYNBYaPOopPi"
      },
      "source": [
        "## Reto 1: Map\n",
        "\n",
        "### 1. Objetivos:\n",
        "    - Practicar el uso de `map` para transformar los datos en una `lista`\n",
        " \n",
        "---\n",
        "    \n",
        "### 2. Desarrollo:"
      ]
    },
    {
      "cell_type": "markdown",
      "metadata": {
        "id": "qHOqT-s9opPn"
      },
      "source": [
        "#### a) Proporción a porcentajes\n",
        "\n",
        "Tenemos una lista que contiene proporciones:"
      ]
    },
    {
      "cell_type": "code",
      "metadata": {
        "id": "Rwte3UQtopPo"
      },
      "source": [
        "proporciones = [0.45, 0.2, 0.78, 0.4, 0.77, 0.9, 0.4, 0.5, 0.67, 0.24, 0.73]"
      ],
      "execution_count": 1,
      "outputs": []
    },
    {
      "cell_type": "markdown",
      "metadata": {
        "id": "2XVCzOTQopPo"
      },
      "source": [
        "Queremos convertir esta lista en una lista `porcentajes`, donde las proporciones hayan sido convertidas a porcentajes. Termina la función `proporcion_a_porcentajes` y después utiliza `map` para convertir `proporciones` y asignar la lista transformada a `porcentajes`:"
      ]
    },
    {
      "cell_type": "code",
      "metadata": {
        "id": "6Awz5ZXKopPp"
      },
      "source": [
        "def proporcion_a_porcentajes(proporcion):\n",
        "    \n",
        "    ## Tu código va aquí\n",
        "    # ...\n",
        "    # ...\n",
        "    \n",
        "    return proporcion * 100"
      ],
      "execution_count": 2,
      "outputs": []
    },
    {
      "cell_type": "code",
      "metadata": {
        "id": "fBkTJ8xcopPp",
        "outputId": "fb2de11b-40eb-4eb9-b351-f78a5f9cd535",
        "colab": {
          "base_uri": "https://localhost:8080/"
        }
      },
      "source": [
        "porcentajes = list(map(proporcion_a_porcentajes, proporciones))\r\n",
        "porcentajes"
      ],
      "execution_count": 3,
      "outputs": [
        {
          "output_type": "execute_result",
          "data": {
            "text/plain": [
              "[45.0, 20.0, 78.0, 40.0, 77.0, 90.0, 40.0, 50.0, 67.0, 24.0, 73.0]"
            ]
          },
          "metadata": {
            "tags": []
          },
          "execution_count": 3
        }
      ]
    },
    {
      "cell_type": "markdown",
      "metadata": {
        "id": "qStrGAVHopPp"
      },
      "source": [
        "Corre después la siguiente celda para obtener una representación en `string`. No importa si no entiendes por completo qué está pasando en la siguiente celda. Más adelante en el módulo aprenderemos a hacer esto y más."
      ]
    },
    {
      "cell_type": "code",
      "metadata": {
        "id": "H-RRouMZopPq",
        "outputId": "fb4b0436-e970-47f1-e3f1-5d3816d32b46",
        "colab": {
          "base_uri": "https://localhost:8080/"
        }
      },
      "source": [
        "# Pega aquí la función de verificación\n",
        "def imprimir_proporciones_en_equivalencia_a_porcentajes(proporciones, porcentajes):\n",
        "    \n",
        "    print(f'==Proporciones y su equivalencia en porcentajes de 1==\\n')\n",
        "    \n",
        "    for i in range(len(proporciones)):\n",
        "        print(f'- {proporciones[i]} es el {int(porcentajes[i])}% de 1.')\n",
        "imprimir_proporciones_en_equivalencia_a_porcentajes(proporciones, porcentajes)"
      ],
      "execution_count": 5,
      "outputs": [
        {
          "output_type": "stream",
          "text": [
            "==Proporciones y su equivalencia en porcentajes de 1==\n",
            "\n",
            "- 0.45 es el 45% de 1.\n",
            "- 0.2 es el 20% de 1.\n",
            "- 0.78 es el 78% de 1.\n",
            "- 0.4 es el 40% de 1.\n",
            "- 0.77 es el 77% de 1.\n",
            "- 0.9 es el 90% de 1.\n",
            "- 0.4 es el 40% de 1.\n",
            "- 0.5 es el 50% de 1.\n",
            "- 0.67 es el 67% de 1.\n",
            "- 0.24 es el 24% de 1.\n",
            "- 0.73 es el 73% de 1.\n"
          ],
          "name": "stdout"
        }
      ]
    },
    {
      "cell_type": "markdown",
      "metadata": {
        "id": "_7DBp6k8opPq"
      },
      "source": [
        "#### b) Strings a números\n",
        "\n",
        "Tenemos una `lista` con strings que representan valores númericos:"
      ]
    },
    {
      "cell_type": "code",
      "metadata": {
        "id": "3rZX1o7TopPq"
      },
      "source": [
        "numeros_como_strings = [\"3\", \"7\", \"45\", \"89\", \"12\", \"9\", \"5\", \"89\", \"78\", \"87\", \"44\", \"45\", \"26\", \"84\", \"98\", \"46\", \"99\", \"84\"]"
      ],
      "execution_count": 6,
      "outputs": []
    },
    {
      "cell_type": "markdown",
      "metadata": {
        "id": "Q9gbtQjoopPq"
      },
      "source": [
        "Para poder realizar algunos cálculos estádisticos, necesitamos que estas `strings` sean convertidas a `ints`. Escribe la función `string_a_int` y asigna el resultado de su aplicación a `numeros_como_strings` a la variable `numeros_como_ints`:"
      ]
    },
    {
      "cell_type": "code",
      "metadata": {
        "id": "OL1ONcSAopPq"
      },
      "source": [
        "def string_a_int(string):\n",
        "    \n",
        "    ## Tu código va aquí\n",
        "    # ...\n",
        "    # ...\n",
        "    \n",
        "    return int(string)"
      ],
      "execution_count": 7,
      "outputs": []
    },
    {
      "cell_type": "code",
      "metadata": {
        "id": "ZtBTRrF9opPr",
        "outputId": "24ef8ce9-ba62-40c8-8917-4fabe3936f39",
        "colab": {
          "base_uri": "https://localhost:8080/"
        }
      },
      "source": [
        "numeros_como_ints = list(map(string_a_int, numeros_como_strings))\r\n",
        "print(numeros_como_ints)\r\n",
        "print(numeros_como_strings)"
      ],
      "execution_count": 12,
      "outputs": [
        {
          "output_type": "stream",
          "text": [
            "[3, 7, 45, 89, 12, 9, 5, 89, 78, 87, 44, 45, 26, 84, 98, 46, 99, 84]\n",
            "['3', '7', '45', '89', '12', '9', '5', '89', '78', '87', '44', '45', '26', '84', '98', '46', '99', '84']\n"
          ],
          "name": "stdout"
        }
      ]
    },
    {
      "cell_type": "markdown",
      "metadata": {
        "id": "CpmxS8oropPr"
      },
      "source": [
        "Pídele a tu experta la función de verificación `imprimir_analisis_estadistico` (encontrada en el archivo `helpers.py` de la carpeta donde se encuentra este Reto), pégala debajo y corre la celda para verificar tu resultado:"
      ]
    },
    {
      "cell_type": "code",
      "metadata": {
        "id": "aewUYjbwopPr",
        "outputId": "a5548360-767f-4d75-d570-a3b07a7abb74",
        "colab": {
          "base_uri": "https://localhost:8080/"
        }
      },
      "source": [
        "# Pega aquí la función de verificación\n",
        "def imprimir_analisis_estadistico(datos):\n",
        "    \n",
        "    def mediana(datos):\n",
        "        datos_sorted = sorted(datos)\n",
        "        len_datos = len(datos)\n",
        "        \n",
        "        if len_datos % 2 == 0:\n",
        "            mediana = (datos_sorted[int(len_datos / 2) - 1] + datos_sorted[int(len_datos / 2)]) / 2\n",
        "        else:\n",
        "            import math\n",
        "            mediana = datos_sorted[int(math.floor(len_datos / 2))]\n",
        "            \n",
        "        return mediana\n",
        "    print(f'==Análisis estadístico de los datos recibidos==\\n')\n",
        "    print(f'Valor mínimo: {min(datos)}')\n",
        "    print(f'Valor máximo: {max(datos)}')\n",
        "    print(f'Rango de valores: {max(datos) - min(datos)}')\n",
        "    print(f'Promedio: {sum(datos) / len(datos)}')\n",
        "    print(f'Mediana: {mediana(datos)}')\n",
        "\n",
        "imprimir_analisis_estadistico(numeros_como_ints)"
      ],
      "execution_count": 15,
      "outputs": [
        {
          "output_type": "stream",
          "text": [
            "==Análisis estadístico de los datos recibidos==\n",
            "\n",
            "Valor mínimo: 3\n",
            "Valor máximo: 99\n",
            "Rango de valores: 96\n",
            "Promedio: 52.77777777777778\n",
            "Mediana: 45.5\n"
          ],
          "name": "stdout"
        }
      ]
    },
    {
      "cell_type": "code",
      "metadata": {
        "id": "FPN2PpGJopPr"
      },
      "source": [
        ""
      ],
      "execution_count": null,
      "outputs": []
    }
  ]
}