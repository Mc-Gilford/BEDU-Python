{
  "nbformat": 4,
  "nbformat_minor": 0,
  "metadata": {
    "colab": {
      "name": "S1Py.ipynb",
      "provenance": [],
      "authorship_tag": "ABX9TyODZqqPdv4dSmTEGIOoBRcA",
      "include_colab_link": true
    },
    "kernelspec": {
      "name": "python3",
      "display_name": "Python 3"
    }
  },
  "cells": [
    {
      "cell_type": "markdown",
      "metadata": {
        "id": "view-in-github",
        "colab_type": "text"
      },
      "source": [
        "<a href=\"https://colab.research.google.com/github/McGilfordJose/BEDU-Python/blob/main/S1Py.ipynb\" target=\"_parent\"><img src=\"https://colab.research.google.com/assets/colab-badge.svg\" alt=\"Open In Colab\"/></a>"
      ]
    },
    {
      "cell_type": "markdown",
      "metadata": {
        "id": "C9wrP9K-Oem0"
      },
      "source": [
        "# POSTWORK\r\n",
        "\r\n",
        "##Problematica desempleo por Covid\r\n",
        "###Investigacion\r\n",
        "“En México millones de personas trabajadoras se tuvieron que quedar en sus casas, en teletrabajo o bien tuvieron que afrontar consecuencias de la crisis como bajas de sueldo o despidos desde finales de marzo”, dice el documento. “En los primeros meses de la pandemia se observó una salida masiva de personas de la fuerza laboral y la pérdida de millones de empleos formales e informales”.\r\n",
        "\r\n",
        "El documento también tiene en consideración el contexto laboral previo a la entrada de la crisis, ya existían brechas en materia de acceso al trabajo y calidad del empleo.\r\n",
        "\r\n",
        "El 44% de la población ocupada en México se enfrenta al riesgo de sufrir afectaciones como reducción de horas o salarios. En algunos sectores, se superpone con vulnerabilidad de informalidad e ingreso bajo.\r\n",
        "\r\n",
        "Durante la pandemia la ocupación informal (en sector informal y sector formal) descendió hasta un 47.7% lo que supone una baja histórica, causada no por la formalización sino por una importante pérdida de trabajos informales.\r\n",
        "\r\n",
        "A partir de agosto esta tasa se ha colocado en niveles semejantes a los previos a la pandemia y es posible que a final de año supere los niveles previos a la pandemia a causa de un traslado de personas trabajadoras hacia la informalidad.\r\n",
        "\r\n",
        "En 5 meses se han destruido más empleos formales que los que fueron creados en todo 2019.\r\n",
        "\r\n",
        "Se han encontrado algunas proupuestas de apoyo para personas empleadas.\r\n",
        "\r\n",
        "La acción social “Apoyo para personas residentes de la Ciudad de México que perdieron su empleo formal durante la emergencia derivada del SARS-COV2 (COVID-19)” es una estrategia mediante la cual se entregarán apoyos económicos para contribuir a reducir el impacto económico causado por la pérdida del trabajo formal.\r\n",
        "\r\n",
        "En los primeros cinco meses de contingencia, (desde marzo cuando inició la Jornada de Sana Distancia y hasta junio y julio cuando se dio la reapertura de algunos sectores) se perdieron en México un millón 117 mil 584 empleos formales, de acuerdo con datos del Instituto Mexicano del Seguro Social (IMSS).\r\n",
        "\r\n",
        "De acuerdo con el ensayo “The Twin Crises of Public Health and the Rule of Law”, publicado por World Justice Project, en un país donde hay estado de derecho el gobierno debe contar con “instituciones eficaces, transparentes y responsables que puedan defender la libertad, garantizar la seguridad pública, incluida la salud pública, y facilitar la prosperidad”.\r\n",
        "\r\n",
        "Pero a decir de Mariana Campos, de México Evalúa, la ayuda que ha dado el gobierno a los ciudadanos para enfrentar las consecuencias económicas de la pandemia ha sido insuficiente.\r\n",
        "\r\n",
        "Hasta septiembre, el gobierno federal otorgó 29 mil 795.5 millones de pesos repartidos en 1 millón 191,822 créditos a ciudadanos para enfrentar la crisis por el COVID.\r\n",
        "\r\n",
        "###Creacion de soluciones\r\n",
        "Crear sistemas de apoyo para los desempleados\r\n",
        "\r\n",
        "1. Facilitar la formalidad\r\n",
        "Los empleos registrados en la formalidad impulsan la recuperación económica de un país. \"Tiene que ver con reducir la carga obrero patronal, que es carísima, atacar la sobrerregulación y el exceso de corrupción en los procesos, pero es un buen momento para experimentar con la flexibilización del mercado laboral y empecemos con posponer estos pagos para aliviar a los trabajadores y empresas\", comentó Jorge Suárez Vélez, director ejecutivo de la firma Alien & Company.\r\n",
        "\r\n",
        "Lee: El 41% de los mexicanos trabaja más horas durante la contingencia\r\n",
        "\r\n",
        "2. Ayuda de los gobiernos estatales\r\n",
        "Cada estado puede establecer medidas particulares que ayuden a las empresas a mantener a sus colaboradores. \"Principalmente de quienes concentran la mayor cantidad de mano de obra para que se ejecuten planes, contener la oleada de despidos y ayudar al mantenimiento de las nóminas actuales\", sostuvo Becerra.\r\n",
        "\r\n",
        "3. Promover la inversión\r\n",
        "El florecimiento de empleos formales llega con las obras que requieren de personal para edificarse. \"Necesitamos certidumbre, un gobierno que deje de atacar a los empresarios y de verlos como enemigo y que reasigne recursos públicos hacia infraestructura productiva real, que tenga capacidad multiplicadora\", aseveró Suárez Vélez.\r\n",
        "\r\n",
        "4. Esquemas fiscales\r\n",
        "La iniciativa privada ha señalado la necesidad de retrasar el pago de algunas obligaciones fiscales que les permitan mantener liquidez. \"Tendríamos que insistir en programas de diferimiento de pago de impuestos, en salarios solidarios e incentivos fiscales que promuevan el empleo\", afirmó Mónica Flores Barragán, presidenta para Lationamérica de Manpower Group.\r\n",
        "\r\n",
        "5. Preparar al talento\r\n",
        "Las empresas pueden crear nuevos puestos laborales, pero si no se prepara a la población para que se ocupen no existirá progreso.\"Hay sectores que van a regresar más tarde y a este talento tendríamos que capacitarlo para moverlo a empresas que van saliendo y que tienen demanda de personal, como en el ramo de la salud, logística, entregas a domicilios y ventas online\", puntualizó Flores Barragán.\r\n",
        "\r\n",
        "6. No dejar que las empresas existentes cierren\r\n",
        "Muchas grandes empresas han hecho hasta lo imposible por evitar cerrar. Desde vender sus activos hasta invertir dinero personal para a seguir pagando a los empleados. Por eso mismo estas empresas son muy importantes para el bienestar social y económico de un país. El gobierno debe prestar atención a este detalle y apoyar de alguna forma para que no cierren.\r\n",
        "\r\n",
        "7. Reactivar toda la economía de forma pareja\r\n",
        "Si se puede hacer una reactivación de la economía para actividades esenciales como los supermercados, se deben buscar formas de hacerlo también para museos o entretenimiento. De esa forma toda la economía se verá beneficiada por esfuerzos equitativos. Por supuesto deben seguirse todos los protocolos de seguridad y sanidad con personal revisando que se cumpla.\r\n",
        "\r\n",
        "8. Eliminar obstáculos para emprender\r\n",
        "Esta puede ser una gran oportunidad para que los gobiernos aligeren los protocolos para que emprendedores puedan iniciar nuevos negocios y ayudar a la economía. No solo aplica para inversores locales sino para hacer más atractiva la inversión de extranjeros y mejorar el ambiente laboral y económico del país.\r\n",
        "\r\n",
        "9. Normas laborales más flexibles\r\n",
        "Las normales laborales deben hacerse más flexibles sin minimizar el esfuerzo de los empresarios. Lo que se necesita son más empleo y formas más fáciles de conseguirlos. Tal vez deba verse la opción de normalizar el trabajo desde casa (siempre que el empleo lo permita) y pagarlo como tiempo completo en una oficina, de esta forma de protege la salud de las personas mientras la economía no colapsa.\r\n",
        "\r\n",
        "\r\n",
        "###Links\r\n",
        "https://www.ilo.org/mexico/noticias/WCMS_757501/lang--es/index.htm\r\n",
        "\r\n",
        "https://expansion.mx/empresas/2020/05/15/5-propuestas-para-recuperar-el-empleo-que-arraso-el-covid-19\r\n",
        "\r\n",
        "https://tutasa.com.uy/disminuir-el-desempleo-por-coronavirus/\r\n",
        "\r\n",
        "https://www.trabajo.cdmx.gob.mx/covid19/apoyo-para-el-desempleo\r\n",
        "\r\n",
        "https://desempleocovid.cdmx.gob.mx/\r\n",
        "\r\n",
        "https://www.animalpolitico.com/2020/11/desempleo-menos-ingresos-deudas-covid-afectacion-economica-mexicanos/\r\n",
        "\r\n",
        "##Incremento del C02\r\n",
        "###Investigacion"
      ]
    },
    {
      "cell_type": "markdown",
      "metadata": {
        "id": "CNK1QLbtiq4M"
      },
      "source": [
        "# Notebook Ejemplo\r\n"
      ]
    },
    {
      "cell_type": "code",
      "metadata": {
        "colab": {
          "base_uri": "https://localhost:8080/"
        },
        "id": "tuacPlksjAei",
        "outputId": "3ba01c7a-ed7a-4f1d-e9d4-1ebb0a6153a3"
      },
      "source": [
        "print (\"Hola mundo\")"
      ],
      "execution_count": null,
      "outputs": [
        {
          "output_type": "stream",
          "text": [
            "Hola mundo\n"
          ],
          "name": "stdout"
        }
      ]
    },
    {
      "cell_type": "code",
      "metadata": {
        "id": "xbCdxIgBjhOB"
      },
      "source": [
        "#Comentario"
      ],
      "execution_count": null,
      "outputs": []
    },
    {
      "cell_type": "markdown",
      "metadata": {
        "id": "5XM7KB2MjxRj"
      },
      "source": [
        "# Variable\r\n"
      ]
    },
    {
      "cell_type": "code",
      "metadata": {
        "colab": {
          "base_uri": "https://localhost:8080/"
        },
        "id": "_LxZJyFbj0a6",
        "outputId": "dce2c76e-b72d-41ad-bc78-1113d6a4371a"
      },
      "source": [
        "var_1 = 5\r\n",
        "var_2 = 7\r\n",
        "var_1+var_2"
      ],
      "execution_count": null,
      "outputs": [
        {
          "output_type": "execute_result",
          "data": {
            "text/plain": [
              "12"
            ]
          },
          "metadata": {
            "tags": []
          },
          "execution_count": 7
        }
      ]
    },
    {
      "cell_type": "code",
      "metadata": {
        "colab": {
          "base_uri": "https://localhost:8080/"
        },
        "id": "vquxGymfkg9v",
        "outputId": "787ae193-e79e-4a60-cddf-ab6e0b8d5440"
      },
      "source": [
        "var_1*var_2"
      ],
      "execution_count": null,
      "outputs": [
        {
          "output_type": "execute_result",
          "data": {
            "text/plain": [
              "35"
            ]
          },
          "metadata": {
            "tags": []
          },
          "execution_count": 8
        }
      ]
    },
    {
      "cell_type": "markdown",
      "metadata": {
        "id": "Fyar-09uof7c"
      },
      "source": [
        "# Operaciones Numericas"
      ]
    },
    {
      "cell_type": "code",
      "metadata": {
        "id": "Z6p600kBojnb"
      },
      "source": [
        "var_3 = 8\r\n",
        "var_4 = 10\r\n"
      ],
      "execution_count": null,
      "outputs": []
    },
    {
      "cell_type": "code",
      "metadata": {
        "colab": {
          "base_uri": "https://localhost:8080/"
        },
        "id": "c0jsqsAbo972",
        "outputId": "04514837-516d-4193-9788-6b8ff9e884db"
      },
      "source": [
        "var_3+var_4"
      ],
      "execution_count": null,
      "outputs": [
        {
          "output_type": "execute_result",
          "data": {
            "text/plain": [
              "18"
            ]
          },
          "metadata": {
            "tags": []
          },
          "execution_count": 10
        }
      ]
    },
    {
      "cell_type": "code",
      "metadata": {
        "colab": {
          "base_uri": "https://localhost:8080/"
        },
        "id": "y0RNiyX6pCdR",
        "outputId": "3ad796a6-471e-4932-f15f-06afc8beb494"
      },
      "source": [
        "var_3/var_4"
      ],
      "execution_count": null,
      "outputs": [
        {
          "output_type": "execute_result",
          "data": {
            "text/plain": [
              "0.8"
            ]
          },
          "metadata": {
            "tags": []
          },
          "execution_count": 11
        }
      ]
    },
    {
      "cell_type": "code",
      "metadata": {
        "colab": {
          "base_uri": "https://localhost:8080/"
        },
        "id": "KmEJaQAHpRSl",
        "outputId": "950c3e8d-6c50-4fbf-ad8a-eeab4e39c610"
      },
      "source": [
        "var_3-var_4"
      ],
      "execution_count": null,
      "outputs": [
        {
          "output_type": "execute_result",
          "data": {
            "text/plain": [
              "-2"
            ]
          },
          "metadata": {
            "tags": []
          },
          "execution_count": 12
        }
      ]
    },
    {
      "cell_type": "code",
      "metadata": {
        "colab": {
          "base_uri": "https://localhost:8080/"
        },
        "id": "1xq5D4WspUfP",
        "outputId": "e06b85f6-4027-48fe-cc53-4fa65dc0cca3"
      },
      "source": [
        "var_3*var_4"
      ],
      "execution_count": null,
      "outputs": [
        {
          "output_type": "execute_result",
          "data": {
            "text/plain": [
              "80"
            ]
          },
          "metadata": {
            "tags": []
          },
          "execution_count": 13
        }
      ]
    },
    {
      "cell_type": "code",
      "metadata": {
        "colab": {
          "base_uri": "https://localhost:8080/"
        },
        "id": "oh3iS6EYpcu0",
        "outputId": "f3bef6f5-7cdb-4eb7-dd97-ff9ef04a3613"
      },
      "source": [
        "var_3 // var_4 #Entrega entero"
      ],
      "execution_count": null,
      "outputs": [
        {
          "output_type": "execute_result",
          "data": {
            "text/plain": [
              "0"
            ]
          },
          "metadata": {
            "tags": []
          },
          "execution_count": 14
        }
      ]
    },
    {
      "cell_type": "code",
      "metadata": {
        "colab": {
          "base_uri": "https://localhost:8080/"
        },
        "id": "blnDovrlpnRe",
        "outputId": "501220b8-20f6-4c70-c813-5e23406d8a71"
      },
      "source": [
        "var_3 **2 #Eleva al cuadrado"
      ],
      "execution_count": null,
      "outputs": [
        {
          "output_type": "execute_result",
          "data": {
            "text/plain": [
              "64"
            ]
          },
          "metadata": {
            "tags": []
          },
          "execution_count": 15
        }
      ]
    },
    {
      "cell_type": "code",
      "metadata": {
        "colab": {
          "base_uri": "https://localhost:8080/"
        },
        "id": "AGeIp7fHp6HK",
        "outputId": "b30e8ba9-2ccb-4300-9d0a-9ce9b42d7588"
      },
      "source": [
        "var_3 % var_4 #Modulo"
      ],
      "execution_count": null,
      "outputs": [
        {
          "output_type": "execute_result",
          "data": {
            "text/plain": [
              "8"
            ]
          },
          "metadata": {
            "tags": []
          },
          "execution_count": 16
        }
      ]
    },
    {
      "cell_type": "code",
      "metadata": {
        "colab": {
          "base_uri": "https://localhost:8080/"
        },
        "id": "afmJyBOVqMmd",
        "outputId": "0493f327-6745-46a2-c511-56bb8c533815"
      },
      "source": [
        "var_5 = var_3*var_4 #Asignacion\r\n",
        "print(var_5)"
      ],
      "execution_count": null,
      "outputs": [
        {
          "output_type": "stream",
          "text": [
            "80\n"
          ],
          "name": "stdout"
        }
      ]
    },
    {
      "cell_type": "code",
      "metadata": {
        "colab": {
          "base_uri": "https://localhost:8080/"
        },
        "id": "8QnoW1yOqmy0",
        "outputId": "93f9dbf7-58d2-43c9-eef5-7053c02537bc"
      },
      "source": [
        "9 **(1/2) # Raiz\r\n"
      ],
      "execution_count": null,
      "outputs": [
        {
          "output_type": "execute_result",
          "data": {
            "text/plain": [
              "3.0"
            ]
          },
          "metadata": {
            "tags": []
          },
          "execution_count": 21
        }
      ]
    },
    {
      "cell_type": "markdown",
      "metadata": {
        "id": "kPbcQZiFsfjw"
      },
      "source": [
        "# Tipos de datos\r\n",
        "* Entero <int>\r\n",
        "* Flot <float>\r\n",
        "* String <String>\r\n"
      ]
    },
    {
      "cell_type": "code",
      "metadata": {
        "colab": {
          "base_uri": "https://localhost:8080/"
        },
        "id": "zSOZM0VCu2Lm",
        "outputId": "e8c5e4e2-355d-4aa8-9fdb-84f5bad23e39"
      },
      "source": [
        "var_1 = 4\r\n",
        "type(var_1)"
      ],
      "execution_count": null,
      "outputs": [
        {
          "output_type": "execute_result",
          "data": {
            "text/plain": [
              "int"
            ]
          },
          "metadata": {
            "tags": []
          },
          "execution_count": 23
        }
      ]
    },
    {
      "cell_type": "code",
      "metadata": {
        "colab": {
          "base_uri": "https://localhost:8080/"
        },
        "id": "yb1m35U0vETq",
        "outputId": "149a2485-2905-4198-afd4-0f4fc94faad5"
      },
      "source": [
        "var_1 = 4.2\r\n",
        "type(var_4)"
      ],
      "execution_count": null,
      "outputs": [
        {
          "output_type": "execute_result",
          "data": {
            "text/plain": [
              "int"
            ]
          },
          "metadata": {
            "tags": []
          },
          "execution_count": 27
        }
      ]
    },
    {
      "cell_type": "code",
      "metadata": {
        "colab": {
          "base_uri": "https://localhost:8080/"
        },
        "id": "GpFFyLIpvPaF",
        "outputId": "4b245ac3-2e01-4ecd-f076-67b18fcb1e1c"
      },
      "source": [
        "var_1 = \"Hola\"\r\n",
        "type(var_1)"
      ],
      "execution_count": null,
      "outputs": [
        {
          "output_type": "execute_result",
          "data": {
            "text/plain": [
              "str"
            ]
          },
          "metadata": {
            "tags": []
          },
          "execution_count": 28
        }
      ]
    },
    {
      "cell_type": "code",
      "metadata": {
        "colab": {
          "base_uri": "https://localhost:8080/"
        },
        "id": "c6yB2Y8VwCzc",
        "outputId": "775210df-7cfc-487b-d145-f9027303bb3c"
      },
      "source": [
        "var_1 = True\r\n",
        "type(var_1)"
      ],
      "execution_count": null,
      "outputs": [
        {
          "output_type": "execute_result",
          "data": {
            "text/plain": [
              "bool"
            ]
          },
          "metadata": {
            "tags": []
          },
          "execution_count": 29
        }
      ]
    },
    {
      "cell_type": "markdown",
      "metadata": {
        "id": "YCwpycEtwjcH"
      },
      "source": [
        "# String"
      ]
    },
    {
      "cell_type": "code",
      "metadata": {
        "colab": {
          "base_uri": "https://localhost:8080/"
        },
        "id": "BE6lo6mfwnWg",
        "outputId": "d3c04e46-87ea-4c5c-8f0d-7e870d90890c"
      },
      "source": [
        "var_1 = 3\r\n",
        "var_1+var_2\r\n",
        "print(\"Las suma de la variable es:\", var_1+var_2)"
      ],
      "execution_count": null,
      "outputs": [
        {
          "output_type": "stream",
          "text": [
            "Las suma de la variable es: 10\n"
          ],
          "name": "stdout"
        }
      ]
    },
    {
      "cell_type": "code",
      "metadata": {
        "colab": {
          "base_uri": "https://localhost:8080/"
        },
        "id": "UN3rovdQxUCJ",
        "outputId": "9f7cd132-5d98-4782-fed7-dcd0e4c99eda"
      },
      "source": [
        "suma = var_1 + var_2\r\n",
        "print(f\"La suma de {var_1} y var_2{var_2} es: {suma}\")"
      ],
      "execution_count": null,
      "outputs": [
        {
          "output_type": "stream",
          "text": [
            "La suma de 3 y var_27 es: 10\n"
          ],
          "name": "stdout"
        }
      ]
    },
    {
      "cell_type": "markdown",
      "metadata": {
        "id": "IVZ32PGh6BP6"
      },
      "source": [
        "# Booleanos"
      ]
    },
    {
      "cell_type": "code",
      "metadata": {
        "colab": {
          "base_uri": "https://localhost:8080/"
        },
        "id": "B6bq7LLA6EfK",
        "outputId": "718ab1a1-2098-4763-d02d-2868ddc0e821"
      },
      "source": [
        "edad = 25\r\n",
        "edad >= 18\r\n"
      ],
      "execution_count": null,
      "outputs": [
        {
          "output_type": "execute_result",
          "data": {
            "text/plain": [
              "True"
            ]
          },
          "metadata": {
            "tags": []
          },
          "execution_count": 45
        }
      ]
    },
    {
      "cell_type": "code",
      "metadata": {
        "colab": {
          "base_uri": "https://localhost:8080/"
        },
        "id": "vB2typN366YT",
        "outputId": "e7b3a030-cc5b-4ad7-ea6b-a7d1558e79f6"
      },
      "source": [
        "edad == 18\r\n"
      ],
      "execution_count": null,
      "outputs": [
        {
          "output_type": "execute_result",
          "data": {
            "text/plain": [
              "False"
            ]
          },
          "metadata": {
            "tags": []
          },
          "execution_count": 46
        }
      ]
    },
    {
      "cell_type": "code",
      "metadata": {
        "colab": {
          "base_uri": "https://localhost:8080/"
        },
        "id": "dcBiAX6W69Yo",
        "outputId": "c549b418-c144-490d-8015-0ecbd60b9ec6"
      },
      "source": [
        "edad < 18"
      ],
      "execution_count": null,
      "outputs": [
        {
          "output_type": "execute_result",
          "data": {
            "text/plain": [
              "False"
            ]
          },
          "metadata": {
            "tags": []
          },
          "execution_count": 47
        }
      ]
    },
    {
      "cell_type": "code",
      "metadata": {
        "colab": {
          "base_uri": "https://localhost:8080/"
        },
        "id": "FJ3EEaCx7Crr",
        "outputId": "9f9c2e6a-d55b-4994-da98-1482ebc236b8"
      },
      "source": [
        "edad != 18"
      ],
      "execution_count": null,
      "outputs": [
        {
          "output_type": "execute_result",
          "data": {
            "text/plain": [
              "True"
            ]
          },
          "metadata": {
            "tags": []
          },
          "execution_count": 48
        }
      ]
    },
    {
      "cell_type": "code",
      "metadata": {
        "colab": {
          "base_uri": "https://localhost:8080/"
        },
        "id": "WMvspEyt7Fdi",
        "outputId": "f355aed8-db02-4c6e-955c-e91412ea3c4b"
      },
      "source": [
        "nombre = \"Jose\"\r\n",
        "nombre == \"jose\""
      ],
      "execution_count": null,
      "outputs": [
        {
          "output_type": "execute_result",
          "data": {
            "text/plain": [
              "False"
            ]
          },
          "metadata": {
            "tags": []
          },
          "execution_count": 50
        }
      ]
    },
    {
      "cell_type": "code",
      "metadata": {
        "colab": {
          "base_uri": "https://localhost:8080/"
        },
        "id": "HjqgxjUm7b27",
        "outputId": "4a389e45-7b28-4490-834d-b8d5852c8f1d"
      },
      "source": [
        "edad == \"25\""
      ],
      "execution_count": null,
      "outputs": [
        {
          "output_type": "execute_result",
          "data": {
            "text/plain": [
              "False"
            ]
          },
          "metadata": {
            "tags": []
          },
          "execution_count": 51
        }
      ]
    },
    {
      "cell_type": "code",
      "metadata": {
        "colab": {
          "base_uri": "https://localhost:8080/"
        },
        "id": "ZaN_chwj7f16",
        "outputId": "654e9343-abfa-424b-d4ed-a1be26b9a168"
      },
      "source": [
        "edad == int(\"25\")"
      ],
      "execution_count": null,
      "outputs": [
        {
          "output_type": "execute_result",
          "data": {
            "text/plain": [
              "True"
            ]
          },
          "metadata": {
            "tags": []
          },
          "execution_count": 52
        }
      ]
    },
    {
      "cell_type": "markdown",
      "metadata": {
        "id": "p3VngnVk-qB9"
      },
      "source": [
        "# Estructuras de control 1\r\n"
      ]
    },
    {
      "cell_type": "code",
      "metadata": {
        "colab": {
          "base_uri": "https://localhost:8080/"
        },
        "id": "myXMGTu1-ukh",
        "outputId": "5b8632e7-491e-420c-ef8c-6cd381f42c85"
      },
      "source": [
        "if edad>=18:\r\n",
        "  print(\"Hola\")"
      ],
      "execution_count": null,
      "outputs": [
        {
          "output_type": "stream",
          "text": [
            "Hola\n"
          ],
          "name": "stdout"
        }
      ]
    },
    {
      "cell_type": "code",
      "metadata": {
        "colab": {
          "base_uri": "https://localhost:8080/"
        },
        "id": "9PSnVvC9_But",
        "outputId": "fd291040-0c0e-4bcf-a89c-ae58c3b7c11b"
      },
      "source": [
        "if edad == 18:\r\n",
        "  print(\"Hola\")\r\n",
        "else:\r\n",
        "  print(\"Como\")\r\n",
        "\r\n",
        "print(\"Adios\")"
      ],
      "execution_count": null,
      "outputs": [
        {
          "output_type": "stream",
          "text": [
            "Como\n",
            "Adios\n"
          ],
          "name": "stdout"
        }
      ]
    },
    {
      "cell_type": "code",
      "metadata": {
        "id": "QnrJ44xnLQpv"
      },
      "source": [
        ""
      ],
      "execution_count": null,
      "outputs": []
    },
    {
      "cell_type": "code",
      "metadata": {
        "colab": {
          "base_uri": "https://localhost:8080/"
        },
        "id": "NXOkza2j_ZfP",
        "outputId": "61b4499f-0549-4d77-e2f8-d6b1e85e8ce3"
      },
      "source": [
        "if edad == 18: #and o or edad >18 or edad<100 in range (18,25)\r\n",
        "  print(\"Hola\")\r\n",
        "elif edad >= 25: \r\n",
        "  print(\"Si\")\r\n",
        "else:\r\n",
        "  print(\"hey\")\r\n",
        "\r\n",
        "print(\"Adios\")"
      ],
      "execution_count": null,
      "outputs": [
        {
          "output_type": "stream",
          "text": [
            "Si\n",
            "Adios\n"
          ],
          "name": "stdout"
        }
      ]
    }
  ]
}