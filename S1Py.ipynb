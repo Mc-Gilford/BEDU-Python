{
  "nbformat": 4,
  "nbformat_minor": 0,
  "metadata": {
    "colab": {
      "name": "S1Py.ipynb",
      "provenance": [],
      "authorship_tag": "ABX9TyNCYKdYCBFuc2pOVwslm5Tb",
      "include_colab_link": true
    },
    "kernelspec": {
      "name": "python3",
      "display_name": "Python 3"
    }
  },
  "cells": [
    {
      "cell_type": "markdown",
      "metadata": {
        "id": "view-in-github",
        "colab_type": "text"
      },
      "source": [
        "<a href=\"https://colab.research.google.com/github/McGilfordJose/BEDU-Python/blob/main/S1Py.ipynb\" target=\"_parent\"><img src=\"https://colab.research.google.com/assets/colab-badge.svg\" alt=\"Open In Colab\"/></a>"
      ]
    },
    {
      "cell_type": "markdown",
      "metadata": {
        "id": "C9wrP9K-Oem0"
      },
      "source": [
        "# POSTWORK\r\n",
        "\r\n",
        "##Problematica desempleo por Covid\r\n",
        "###Investigacion\r\n",
        "“En México millones de personas trabajadoras se tuvieron que quedar en sus casas, en teletrabajo o bien tuvieron que afrontar consecuencias de la crisis como bajas de sueldo o despidos desde finales de marzo”, dice el documento. “En los primeros meses de la pandemia se observó una salida masiva de personas de la fuerza laboral y la pérdida de millones de empleos formales e informales”.\r\n",
        "\r\n",
        "El documento también tiene en consideración el contexto laboral previo a la entrada de la crisis, ya existían brechas en materia de acceso al trabajo y calidad del empleo.\r\n",
        "\r\n",
        "El 44% de la población ocupada en México se enfrenta al riesgo de sufrir afectaciones como reducción de horas o salarios. En algunos sectores, se superpone con vulnerabilidad de informalidad e ingreso bajo.\r\n",
        "\r\n",
        "Durante la pandemia la ocupación informal (en sector informal y sector formal) descendió hasta un 47.7% lo que supone una baja histórica, causada no por la formalización sino por una importante pérdida de trabajos informales.\r\n",
        "\r\n",
        "A partir de agosto esta tasa se ha colocado en niveles semejantes a los previos a la pandemia y es posible que a final de año supere los niveles previos a la pandemia a causa de un traslado de personas trabajadoras hacia la informalidad.\r\n",
        "\r\n",
        "En 5 meses se han destruido más empleos formales que los que fueron creados en todo 2019.\r\n",
        "\r\n",
        "Se han encontrado algunas proupuestas de apoyo para personas empleadas.\r\n",
        "\r\n",
        "La acción social “Apoyo para personas residentes de la Ciudad de México que perdieron su empleo formal durante la emergencia derivada del SARS-COV2 (COVID-19)” es una estrategia mediante la cual se entregarán apoyos económicos para contribuir a reducir el impacto económico causado por la pérdida del trabajo formal.\r\n",
        "\r\n",
        "En los primeros cinco meses de contingencia, (desde marzo cuando inició la Jornada de Sana Distancia y hasta junio y julio cuando se dio la reapertura de algunos sectores) se perdieron en México un millón 117 mil 584 empleos formales, de acuerdo con datos del Instituto Mexicano del Seguro Social (IMSS).\r\n",
        "\r\n",
        "De acuerdo con el ensayo “The Twin Crises of Public Health and the Rule of Law”, publicado por World Justice Project, en un país donde hay estado de derecho el gobierno debe contar con “instituciones eficaces, transparentes y responsables que puedan defender la libertad, garantizar la seguridad pública, incluida la salud pública, y facilitar la prosperidad”.\r\n",
        "\r\n",
        "Pero a decir de Mariana Campos, de México Evalúa, la ayuda que ha dado el gobierno a los ciudadanos para enfrentar las consecuencias económicas de la pandemia ha sido insuficiente.\r\n",
        "\r\n",
        "Hasta septiembre, el gobierno federal otorgó 29 mil 795.5 millones de pesos repartidos en 1 millón 191,822 créditos a ciudadanos para enfrentar la crisis por el COVID.\r\n",
        "\r\n",
        "###Creacion de soluciones\r\n",
        "Crear sistemas de apoyo para los desempleados\r\n",
        "\r\n",
        "1. Facilitar la formalidad\r\n",
        "Los empleos registrados en la formalidad impulsan la recuperación económica de un país. \"Tiene que ver con reducir la carga obrero patronal, que es carísima, atacar la sobrerregulación y el exceso de corrupción en los procesos, pero es un buen momento para experimentar con la flexibilización del mercado laboral y empecemos con posponer estos pagos para aliviar a los trabajadores y empresas\", comentó Jorge Suárez Vélez, director ejecutivo de la firma Alien & Company.\r\n",
        "\r\n",
        "Lee: El 41% de los mexicanos trabaja más horas durante la contingencia\r\n",
        "\r\n",
        "2. Ayuda de los gobiernos estatales\r\n",
        "Cada estado puede establecer medidas particulares que ayuden a las empresas a mantener a sus colaboradores. \"Principalmente de quienes concentran la mayor cantidad de mano de obra para que se ejecuten planes, contener la oleada de despidos y ayudar al mantenimiento de las nóminas actuales\", sostuvo Becerra.\r\n",
        "\r\n",
        "3. Promover la inversión\r\n",
        "El florecimiento de empleos formales llega con las obras que requieren de personal para edificarse. \"Necesitamos certidumbre, un gobierno que deje de atacar a los empresarios y de verlos como enemigo y que reasigne recursos públicos hacia infraestructura productiva real, que tenga capacidad multiplicadora\", aseveró Suárez Vélez.\r\n",
        "\r\n",
        "4. Esquemas fiscales\r\n",
        "La iniciativa privada ha señalado la necesidad de retrasar el pago de algunas obligaciones fiscales que les permitan mantener liquidez. \"Tendríamos que insistir en programas de diferimiento de pago de impuestos, en salarios solidarios e incentivos fiscales que promuevan el empleo\", afirmó Mónica Flores Barragán, presidenta para Lationamérica de Manpower Group.\r\n",
        "\r\n",
        "5. Preparar al talento\r\n",
        "Las empresas pueden crear nuevos puestos laborales, pero si no se prepara a la población para que se ocupen no existirá progreso.\"Hay sectores que van a regresar más tarde y a este talento tendríamos que capacitarlo para moverlo a empresas que van saliendo y que tienen demanda de personal, como en el ramo de la salud, logística, entregas a domicilios y ventas online\", puntualizó Flores Barragán.\r\n",
        "\r\n",
        "6. No dejar que las empresas existentes cierren\r\n",
        "Muchas grandes empresas han hecho hasta lo imposible por evitar cerrar. Desde vender sus activos hasta invertir dinero personal para a seguir pagando a los empleados. Por eso mismo estas empresas son muy importantes para el bienestar social y económico de un país. El gobierno debe prestar atención a este detalle y apoyar de alguna forma para que no cierren.\r\n",
        "\r\n",
        "7. Reactivar toda la economía de forma pareja\r\n",
        "Si se puede hacer una reactivación de la economía para actividades esenciales como los supermercados, se deben buscar formas de hacerlo también para museos o entretenimiento. De esa forma toda la economía se verá beneficiada por esfuerzos equitativos. Por supuesto deben seguirse todos los protocolos de seguridad y sanidad con personal revisando que se cumpla.\r\n",
        "\r\n",
        "8. Eliminar obstáculos para emprender\r\n",
        "Esta puede ser una gran oportunidad para que los gobiernos aligeren los protocolos para que emprendedores puedan iniciar nuevos negocios y ayudar a la economía. No solo aplica para inversores locales sino para hacer más atractiva la inversión de extranjeros y mejorar el ambiente laboral y económico del país.\r\n",
        "\r\n",
        "9. Normas laborales más flexibles\r\n",
        "Las normales laborales deben hacerse más flexibles sin minimizar el esfuerzo de los empresarios. Lo que se necesita son más empleo y formas más fáciles de conseguirlos. Tal vez deba verse la opción de normalizar el trabajo desde casa (siempre que el empleo lo permita) y pagarlo como tiempo completo en una oficina, de esta forma de protege la salud de las personas mientras la economía no colapsa.\r\n",
        "\r\n",
        "###Solucion Personal\r\n",
        "\r\n",
        "Dado a las investigaciones, y datasets que he hallado antes considero que una forma de activar la economia es generando una necesidad comun, donde el gobierno pueda activar una tipo empresa para desempleados y vender algun producto o servicio, asi esto generaria empleos, y a la vez se podrian implementar ciertas medidas para la salud.\r\n",
        "\r\n",
        "Igual considero que pueden seguir continuando micronegocios, como las ventas online pero esto ya es mas para la poblacion general, dado que deben de crear algo que las personas les guste o necesiten, un ejemplo de esto seria una carcasa de celular.\r\n",
        "\r\n",
        "###Links\r\n",
        "https://www.ilo.org/mexico/noticias/WCMS_757501/lang--es/index.htm\r\n",
        "\r\n",
        "https://expansion.mx/empresas/2020/05/15/5-propuestas-para-recuperar-el-empleo-que-arraso-el-covid-19\r\n",
        "\r\n",
        "https://tutasa.com.uy/disminuir-el-desempleo-por-coronavirus/\r\n",
        "\r\n",
        "https://www.trabajo.cdmx.gob.mx/covid19/apoyo-para-el-desempleo\r\n",
        "\r\n",
        "https://desempleocovid.cdmx.gob.mx/\r\n",
        "\r\n",
        "https://www.animalpolitico.com/2020/11/desempleo-menos-ingresos-deudas-covid-afectacion-economica-mexicanos/\r\n",
        "\r\n",
        "##Incremento del C02\r\n",
        "###Investigacion\r\n",
        "En 2018, el dióxido de carbono, el metano y el óxido nitroso que causan el calentamiento global aumentaron hasta más del doble. La última vez que ocurrió en la Tierra una concentración de CO2 como la actual fue hace entre 3 y 5 millones de años, cuando la temperatura era de 2 a 3 grados más cálida y el nivel del mar era entre 10 y 20 metros superior al actual.\r\n",
        "\r\n",
        "El dióxido de carbono (CO2) aumentó un 147%, el metano (CH4) un 259%, y el óxido nitroso (N2O) un 123%. Estos incrementos hacen que el cambio climático sea más agudo, que las temperaturas suban y que los fenómenos meteorológicos extremos se multipliquen.\r\n",
        "\r\n",
        "“El futuro bienestar de la humanidad está en juego”, aseguró este lunes el secretario general de la OMM, Petteri Talas, durante una conferencia de prensa en Ginebra.\r\n",
        "\r\n",
        "Desde 1990, el efecto de calentamiento que ejercen los gases de efecto invernadero de larga duración ha aumentado en un 43%, siendo el CO2 el causante de aproximadamente un 80% de ese incremento. \r\n",
        "\r\n",
        "La última vez que se dio en la Tierra una concentración comparable de este gas fue hace entre 3 y 5 millones de años, cuando la temperatura era de 2 a 3 grados más cálida y el nivel del mar era entre 10 y 20 metros superior al actual.\r\n",
        "\r\n",
        "El CO2 es particularmente dañino en un contexto de calentamiento global porque permanece en la atmósfera durante siglos y en los océanos por más tiempo, explicó la agencia.\r\n",
        "\r\n",
        "En cuanto al metano, que es responsable del 17%del forzamiento radiativo, el profesor Taalas señaló que \"también hemos estado batiendo récords\", ya que el aumento del año pasado \"fue el segundo más alto en la última década\".\r\n",
        "\r\n",
        "Las emisiones de CO2 alcanzan en 2018 un nuevo máximo histórico al llegar a 407,8 ppm\r\n",
        "\r\n",
        "La Organización Meteorológica Mundial advierte de que la tendencia ascendente continúa a largo plazo y no se prevé que el techo de emisiones vaya a llegar en 2020 ni tampoco en 2030\r\n",
        "\r\n",
        "Los niveles de gases de efecto invernadero alcanzaron un nuevo récord en 2018, un año en el que los niveles de dióxido de carbono (CO2) llegaron a 407,8 partes por millón (ppm), frente a las 405,5 ppm de 2017, según datos del boletín de gases de efecto invernadero (GEI) de la Organización Meteorológica Mundial (OMM). \r\n",
        "\r\n",
        "Un total de 53 países remiten datos al boletín GEI que forma parte del Programa de la Vigilancia de la Atmósfera Global de la OMM, que coordina las observaciones sistemáticas y el análisis de los gases de efecto invernadero y otros elementos.\r\n",
        "\r\n",
        "El CO2 es el principal gas de efecto invernadero de larga duración en la atmósfera relacionado con las actividades humanas. La concentración llegó a un nuevo valor máximo en 2018, 407,8 ppm, es decir, un 147% más del nivel preindustrial en 1750. \r\n",
        "\r\n",
        "De media, el promedio del índice de aumento del CO2 de los últimos tres decenios (1985-1995, 1995-2005 y 2005-2015) se incrementó de 1,42 ppm/año a 1,86 ppm/año y a 2,06 ppm/año, y se han observado los índices de crecimiento más altos durante los episodios de El Niño. \r\n",
        "\r\n",
        "Entre 1990 y 2018 el forzamiento radiativo de los gases GEI de larga duración creció un 43% entre 1990 y 2018 y de este aumento, Estados Unidos contribuyó con el 80%.\r\n",
        "\r\n",
        "En los últimos años se ha detectado un aumento en la cantidad de CO2 en la atmósfera. Según estudios, en el año 2009, se pasó de unas 280 partes por millón en la era preindustrial a 390 partes por millón, aumento contribuye al calentamiento global.\r\n",
        "\r\n",
        "A pesar de lo anterior, hay científicos que dudan de que los gases de efecto invernadero hayan sido cruciales en el incremento de los efectos del calentamiento global. Esto debido a que tal aumento se lleva registrando en promedio en la superficie terrestre (0,6 grados Celsius) en los últimos 100 años.\r\n",
        "\r\n",
        "Se estima que 2/3 de las emisiones de CO2 proceden de la quema de combustibles fósiles (petróleo, gas y carbón); mientras un 1/3 procede del cambio en la utilización del suelo (como la deforestación). Del total emitido solo 45% permanece en la atmósfera, 30% es absorbido por los océanos y, el restante 25%, pasa a la biosfera terrestre.\r\n",
        "\r\n",
        "###Creacion de soluciones\r\n",
        "1. Ser conscientes del impacto de las emisiones de CO2\r\n",
        "\r\n",
        "El calentamiento global causado por el dióxido de carbono (CO2) y otros gases de efecto invernadero (GEI) emitidos por los seres humanos desde la revolución industrial es una realidad constatada. El Acuerdo de la Cumbre del Clima de París (COP 21), firmado por 195 países más la Unión Europea (UE), pretende ser el arranque definitivo para concienciar a la comunidad internacional y a los ciudadanos de que hay que tomar medidas.\r\n",
        "\r\n",
        "2. Reducir el uso del coche privado\r\n",
        "\r\n",
        "Conducir 50 kilómetros menos cada semana reduce en 450 kilogramos las emisiones de CO2. El uso masivo de combustibles fósiles es el principal responsable de dichas emisiones. Uno de sus mayores causantes es el transporte por carretera: en España produce el 25% de las emisiones domésticas totales (en Europa, el 20%). La ecuación es sencilla: a menos uso del coche, menos emisiones. Si no queda otra que utilizarlo, al menos aprovecharlo al máximo, compartiendo su espacio con otros ocupantes, y practicar un estilo de conducción “ecológico”.\r\n",
        "\r\n",
        "3. Practicar una movilidad sostenible\r\n",
        "\r\n",
        "Si hay una industria que conoce bien impacto ambiental del cambio climático, esa es la industria de automoción. Por esta razón, los grandes fabricantes presentan cada año alternativas verdes al coche convencional (híbridos y eléctricos). Pero si esta no es una opción para ti, piensa en usar el transporte público y exigir que haya más y que sea más ecológico. Siempre que sea posible, es preferible ir a pie o en bicicleta en todos los desplazamientos, tanto de ocio como para ir al trabajo. Puedes incluso aprovecharte de la opción del no desplazamiento que permite el teletrabajo.\r\n",
        "\r\n",
        "4. Aumentar nuestra eficiencia energética\r\n",
        "\r\n",
        "Ajustar el termostato 2 grados menos en invierno y 2 grados más en verano permite reducir las emisiones de CO2 en 900 kilogramos. Poner dos lavadoras a la semana con una temperatura de 40 grados reduce la emisión en 225 kilogramos de CO2. Siendo eficientes energéticamente, mantenemos el confort y nuestras necesidades cubiertas. A su vez, reducimos el gasto en energía y, con ello, las emisiones de CO2.\r\n",
        "\r\n",
        "5. Consumir energía renovable\r\n",
        "\r\n",
        "Una de las ventajas ambientales de las energías renovables es que no emiten CO2. Los consumidores pueden hacer uso de ellas al instalar en su casa un sistema de autoconsumo con paneles solares o al contratar alguna de las cada vez más numerosas empresas comercializadoras de electricidad renovable.\r\n",
        "\r\n",
        "6. Seguir una dieta con baja huella de carbono\r\n",
        "\r\n",
        "Los alimentos son responsables de, al menos, el 20% de los gases de efecto invernadero. Este porcentaje podría ser incluso mayor si se tuvieran en cuenta las fuentes de emisión indirectas, según diversos estudios. Seguir una dieta baja en carbono no solo beneficia a la salud, sino también al medio ambiente. Para ello, hay que evitar los productos que necesitan más energía o recursos naturales, se transportan desde lejos o requieren de un complejo envasado.\r\n",
        "\r\n",
        "7. Convertirse en un consumidor sostenible\r\n",
        "\r\n",
        "Los consumidores sostenibles ahorran dinero y son respetuosos con el medio ambiente y, por ello, también son importantes en la lucha contra el cambio climático. Una regla sencilla para convertirse en uno de ellos es asumir las tres erres: usar la menor cantidad posible de productos (reducción) y aprovecharlos más de una vez (reutilización) antes de depositarlos en el contenedor adecuado (reciclaje).\r\n",
        "\r\n",
        "8. Plantar árboles\r\n",
        "\r\n",
        "Los árboles actúan como “sumideros de carbono”, es decir, retienen el CO2. Por ello, apoyar medidas que eviten la deforestación de los bosques y los incendios forestales o impulsen la plantación de nuevos árboles, en especial de especies autóctonas, contribuye a reducir las emisiones de CO2 en la atmósfera. Los ciudadanos pueden participar en las cada vez más diversas iniciativas para plantar árboles. Sin duda una buena idea para contribuir a frenar el impacto ambiental del cambio climático.\r\n",
        "\r\n",
        "###Solucion Personal\r\n",
        "Una vez realizada esta investigacion he observado que el incremento de la temperatura es por el CO2, una solucion viable es el consumo de los vehiculos, mi propuesta es que analizando el uso de los coches conforme al kilometraje se propongan uso de vehiculos no contaminantes, y comparar la reduccion, el tiempo y el beneficio. Intentar reducir nuestra huella de carbono, mediante un analisis de transporte.\r\n",
        "\r\n",
        "Tambien como determinar que tecnologias son las que mas contaminan, y asi realizar una propuesta para mejorar estas para que sean saludables.\r\n",
        "\r\n",
        "###Links\r\n",
        "https://news.un.org/es/story/2019/11/1465851#:~:text=En%202018%2C%20el%20di%C3%B3xido%20de,aumentaron%20hasta%20m%C3%A1s%20del%20doble.&text=El%20di%C3%B3xido%20de%20carbono%20(CO2,(N2O)%20un%20123%25.\r\n",
        "\r\n",
        "https://www.elconfidencial.com/tecnologia/ciencia/2019-11-25/emisiones-co2-maximo-historico-2018-omm_2350960/\r\n",
        "\r\n",
        "https://twenergy.com/ecologia-y-reciclaje/huella-ecologica/emisiones-de-co2-458/\r\n",
        "\r\n",
        "https://www.fundacionaquae.org/consejos-reducir-la-emision-co2/\r\n"
      ]
    },
    {
      "cell_type": "markdown",
      "metadata": {
        "id": "CNK1QLbtiq4M"
      },
      "source": [
        "# Notebook Ejemplo\r\n"
      ]
    },
    {
      "cell_type": "code",
      "metadata": {
        "colab": {
          "base_uri": "https://localhost:8080/"
        },
        "id": "tuacPlksjAei",
        "outputId": "3ba01c7a-ed7a-4f1d-e9d4-1ebb0a6153a3"
      },
      "source": [
        "print (\"Hola mundo\")"
      ],
      "execution_count": null,
      "outputs": [
        {
          "output_type": "stream",
          "text": [
            "Hola mundo\n"
          ],
          "name": "stdout"
        }
      ]
    },
    {
      "cell_type": "code",
      "metadata": {
        "id": "xbCdxIgBjhOB"
      },
      "source": [
        "#Comentario"
      ],
      "execution_count": null,
      "outputs": []
    },
    {
      "cell_type": "markdown",
      "metadata": {
        "id": "5XM7KB2MjxRj"
      },
      "source": [
        "# Variable\r\n"
      ]
    },
    {
      "cell_type": "code",
      "metadata": {
        "colab": {
          "base_uri": "https://localhost:8080/"
        },
        "id": "_LxZJyFbj0a6",
        "outputId": "dce2c76e-b72d-41ad-bc78-1113d6a4371a"
      },
      "source": [
        "var_1 = 5\r\n",
        "var_2 = 7\r\n",
        "var_1+var_2"
      ],
      "execution_count": null,
      "outputs": [
        {
          "output_type": "execute_result",
          "data": {
            "text/plain": [
              "12"
            ]
          },
          "metadata": {
            "tags": []
          },
          "execution_count": 7
        }
      ]
    },
    {
      "cell_type": "code",
      "metadata": {
        "colab": {
          "base_uri": "https://localhost:8080/"
        },
        "id": "vquxGymfkg9v",
        "outputId": "787ae193-e79e-4a60-cddf-ab6e0b8d5440"
      },
      "source": [
        "var_1*var_2"
      ],
      "execution_count": null,
      "outputs": [
        {
          "output_type": "execute_result",
          "data": {
            "text/plain": [
              "35"
            ]
          },
          "metadata": {
            "tags": []
          },
          "execution_count": 8
        }
      ]
    },
    {
      "cell_type": "markdown",
      "metadata": {
        "id": "Fyar-09uof7c"
      },
      "source": [
        "# Operaciones Numericas"
      ]
    },
    {
      "cell_type": "code",
      "metadata": {
        "id": "Z6p600kBojnb"
      },
      "source": [
        "var_3 = 8\r\n",
        "var_4 = 10\r\n"
      ],
      "execution_count": null,
      "outputs": []
    },
    {
      "cell_type": "code",
      "metadata": {
        "colab": {
          "base_uri": "https://localhost:8080/"
        },
        "id": "c0jsqsAbo972",
        "outputId": "04514837-516d-4193-9788-6b8ff9e884db"
      },
      "source": [
        "var_3+var_4"
      ],
      "execution_count": null,
      "outputs": [
        {
          "output_type": "execute_result",
          "data": {
            "text/plain": [
              "18"
            ]
          },
          "metadata": {
            "tags": []
          },
          "execution_count": 10
        }
      ]
    },
    {
      "cell_type": "code",
      "metadata": {
        "colab": {
          "base_uri": "https://localhost:8080/"
        },
        "id": "y0RNiyX6pCdR",
        "outputId": "3ad796a6-471e-4932-f15f-06afc8beb494"
      },
      "source": [
        "var_3/var_4"
      ],
      "execution_count": null,
      "outputs": [
        {
          "output_type": "execute_result",
          "data": {
            "text/plain": [
              "0.8"
            ]
          },
          "metadata": {
            "tags": []
          },
          "execution_count": 11
        }
      ]
    },
    {
      "cell_type": "code",
      "metadata": {
        "colab": {
          "base_uri": "https://localhost:8080/"
        },
        "id": "KmEJaQAHpRSl",
        "outputId": "950c3e8d-6c50-4fbf-ad8a-eeab4e39c610"
      },
      "source": [
        "var_3-var_4"
      ],
      "execution_count": null,
      "outputs": [
        {
          "output_type": "execute_result",
          "data": {
            "text/plain": [
              "-2"
            ]
          },
          "metadata": {
            "tags": []
          },
          "execution_count": 12
        }
      ]
    },
    {
      "cell_type": "code",
      "metadata": {
        "colab": {
          "base_uri": "https://localhost:8080/"
        },
        "id": "1xq5D4WspUfP",
        "outputId": "e06b85f6-4027-48fe-cc53-4fa65dc0cca3"
      },
      "source": [
        "var_3*var_4"
      ],
      "execution_count": null,
      "outputs": [
        {
          "output_type": "execute_result",
          "data": {
            "text/plain": [
              "80"
            ]
          },
          "metadata": {
            "tags": []
          },
          "execution_count": 13
        }
      ]
    },
    {
      "cell_type": "code",
      "metadata": {
        "colab": {
          "base_uri": "https://localhost:8080/"
        },
        "id": "oh3iS6EYpcu0",
        "outputId": "f3bef6f5-7cdb-4eb7-dd97-ff9ef04a3613"
      },
      "source": [
        "var_3 // var_4 #Entrega entero"
      ],
      "execution_count": null,
      "outputs": [
        {
          "output_type": "execute_result",
          "data": {
            "text/plain": [
              "0"
            ]
          },
          "metadata": {
            "tags": []
          },
          "execution_count": 14
        }
      ]
    },
    {
      "cell_type": "code",
      "metadata": {
        "colab": {
          "base_uri": "https://localhost:8080/"
        },
        "id": "blnDovrlpnRe",
        "outputId": "501220b8-20f6-4c70-c813-5e23406d8a71"
      },
      "source": [
        "var_3 **2 #Eleva al cuadrado"
      ],
      "execution_count": null,
      "outputs": [
        {
          "output_type": "execute_result",
          "data": {
            "text/plain": [
              "64"
            ]
          },
          "metadata": {
            "tags": []
          },
          "execution_count": 15
        }
      ]
    },
    {
      "cell_type": "code",
      "metadata": {
        "colab": {
          "base_uri": "https://localhost:8080/"
        },
        "id": "AGeIp7fHp6HK",
        "outputId": "b30e8ba9-2ccb-4300-9d0a-9ce9b42d7588"
      },
      "source": [
        "var_3 % var_4 #Modulo"
      ],
      "execution_count": null,
      "outputs": [
        {
          "output_type": "execute_result",
          "data": {
            "text/plain": [
              "8"
            ]
          },
          "metadata": {
            "tags": []
          },
          "execution_count": 16
        }
      ]
    },
    {
      "cell_type": "code",
      "metadata": {
        "colab": {
          "base_uri": "https://localhost:8080/"
        },
        "id": "afmJyBOVqMmd",
        "outputId": "0493f327-6745-46a2-c511-56bb8c533815"
      },
      "source": [
        "var_5 = var_3*var_4 #Asignacion\r\n",
        "print(var_5)"
      ],
      "execution_count": null,
      "outputs": [
        {
          "output_type": "stream",
          "text": [
            "80\n"
          ],
          "name": "stdout"
        }
      ]
    },
    {
      "cell_type": "code",
      "metadata": {
        "colab": {
          "base_uri": "https://localhost:8080/"
        },
        "id": "8QnoW1yOqmy0",
        "outputId": "93f9dbf7-58d2-43c9-eef5-7053c02537bc"
      },
      "source": [
        "9 **(1/2) # Raiz\r\n"
      ],
      "execution_count": null,
      "outputs": [
        {
          "output_type": "execute_result",
          "data": {
            "text/plain": [
              "3.0"
            ]
          },
          "metadata": {
            "tags": []
          },
          "execution_count": 21
        }
      ]
    },
    {
      "cell_type": "markdown",
      "metadata": {
        "id": "kPbcQZiFsfjw"
      },
      "source": [
        "# Tipos de datos\r\n",
        "* Entero <int>\r\n",
        "* Flot <float>\r\n",
        "* String <String>\r\n"
      ]
    },
    {
      "cell_type": "code",
      "metadata": {
        "colab": {
          "base_uri": "https://localhost:8080/"
        },
        "id": "zSOZM0VCu2Lm",
        "outputId": "e8c5e4e2-355d-4aa8-9fdb-84f5bad23e39"
      },
      "source": [
        "var_1 = 4\r\n",
        "type(var_1)"
      ],
      "execution_count": null,
      "outputs": [
        {
          "output_type": "execute_result",
          "data": {
            "text/plain": [
              "int"
            ]
          },
          "metadata": {
            "tags": []
          },
          "execution_count": 23
        }
      ]
    },
    {
      "cell_type": "code",
      "metadata": {
        "colab": {
          "base_uri": "https://localhost:8080/"
        },
        "id": "yb1m35U0vETq",
        "outputId": "149a2485-2905-4198-afd4-0f4fc94faad5"
      },
      "source": [
        "var_1 = 4.2\r\n",
        "type(var_4)"
      ],
      "execution_count": null,
      "outputs": [
        {
          "output_type": "execute_result",
          "data": {
            "text/plain": [
              "int"
            ]
          },
          "metadata": {
            "tags": []
          },
          "execution_count": 27
        }
      ]
    },
    {
      "cell_type": "code",
      "metadata": {
        "colab": {
          "base_uri": "https://localhost:8080/"
        },
        "id": "GpFFyLIpvPaF",
        "outputId": "4b245ac3-2e01-4ecd-f076-67b18fcb1e1c"
      },
      "source": [
        "var_1 = \"Hola\"\r\n",
        "type(var_1)"
      ],
      "execution_count": null,
      "outputs": [
        {
          "output_type": "execute_result",
          "data": {
            "text/plain": [
              "str"
            ]
          },
          "metadata": {
            "tags": []
          },
          "execution_count": 28
        }
      ]
    },
    {
      "cell_type": "code",
      "metadata": {
        "colab": {
          "base_uri": "https://localhost:8080/"
        },
        "id": "c6yB2Y8VwCzc",
        "outputId": "775210df-7cfc-487b-d145-f9027303bb3c"
      },
      "source": [
        "var_1 = True\r\n",
        "type(var_1)"
      ],
      "execution_count": null,
      "outputs": [
        {
          "output_type": "execute_result",
          "data": {
            "text/plain": [
              "bool"
            ]
          },
          "metadata": {
            "tags": []
          },
          "execution_count": 29
        }
      ]
    },
    {
      "cell_type": "markdown",
      "metadata": {
        "id": "YCwpycEtwjcH"
      },
      "source": [
        "# String"
      ]
    },
    {
      "cell_type": "code",
      "metadata": {
        "colab": {
          "base_uri": "https://localhost:8080/"
        },
        "id": "BE6lo6mfwnWg",
        "outputId": "d3c04e46-87ea-4c5c-8f0d-7e870d90890c"
      },
      "source": [
        "var_1 = 3\r\n",
        "var_1+var_2\r\n",
        "print(\"Las suma de la variable es:\", var_1+var_2)"
      ],
      "execution_count": null,
      "outputs": [
        {
          "output_type": "stream",
          "text": [
            "Las suma de la variable es: 10\n"
          ],
          "name": "stdout"
        }
      ]
    },
    {
      "cell_type": "code",
      "metadata": {
        "colab": {
          "base_uri": "https://localhost:8080/"
        },
        "id": "UN3rovdQxUCJ",
        "outputId": "9f7cd132-5d98-4782-fed7-dcd0e4c99eda"
      },
      "source": [
        "suma = var_1 + var_2\r\n",
        "print(f\"La suma de {var_1} y var_2{var_2} es: {suma}\")"
      ],
      "execution_count": null,
      "outputs": [
        {
          "output_type": "stream",
          "text": [
            "La suma de 3 y var_27 es: 10\n"
          ],
          "name": "stdout"
        }
      ]
    },
    {
      "cell_type": "markdown",
      "metadata": {
        "id": "IVZ32PGh6BP6"
      },
      "source": [
        "# Booleanos"
      ]
    },
    {
      "cell_type": "code",
      "metadata": {
        "colab": {
          "base_uri": "https://localhost:8080/"
        },
        "id": "B6bq7LLA6EfK",
        "outputId": "718ab1a1-2098-4763-d02d-2868ddc0e821"
      },
      "source": [
        "edad = 25\r\n",
        "edad >= 18\r\n"
      ],
      "execution_count": null,
      "outputs": [
        {
          "output_type": "execute_result",
          "data": {
            "text/plain": [
              "True"
            ]
          },
          "metadata": {
            "tags": []
          },
          "execution_count": 45
        }
      ]
    },
    {
      "cell_type": "code",
      "metadata": {
        "colab": {
          "base_uri": "https://localhost:8080/"
        },
        "id": "vB2typN366YT",
        "outputId": "e7b3a030-cc5b-4ad7-ea6b-a7d1558e79f6"
      },
      "source": [
        "edad == 18\r\n"
      ],
      "execution_count": null,
      "outputs": [
        {
          "output_type": "execute_result",
          "data": {
            "text/plain": [
              "False"
            ]
          },
          "metadata": {
            "tags": []
          },
          "execution_count": 46
        }
      ]
    },
    {
      "cell_type": "code",
      "metadata": {
        "colab": {
          "base_uri": "https://localhost:8080/"
        },
        "id": "dcBiAX6W69Yo",
        "outputId": "c549b418-c144-490d-8015-0ecbd60b9ec6"
      },
      "source": [
        "edad < 18"
      ],
      "execution_count": null,
      "outputs": [
        {
          "output_type": "execute_result",
          "data": {
            "text/plain": [
              "False"
            ]
          },
          "metadata": {
            "tags": []
          },
          "execution_count": 47
        }
      ]
    },
    {
      "cell_type": "code",
      "metadata": {
        "colab": {
          "base_uri": "https://localhost:8080/"
        },
        "id": "FJ3EEaCx7Crr",
        "outputId": "9f9c2e6a-d55b-4994-da98-1482ebc236b8"
      },
      "source": [
        "edad != 18"
      ],
      "execution_count": null,
      "outputs": [
        {
          "output_type": "execute_result",
          "data": {
            "text/plain": [
              "True"
            ]
          },
          "metadata": {
            "tags": []
          },
          "execution_count": 48
        }
      ]
    },
    {
      "cell_type": "code",
      "metadata": {
        "colab": {
          "base_uri": "https://localhost:8080/"
        },
        "id": "WMvspEyt7Fdi",
        "outputId": "f355aed8-db02-4c6e-955c-e91412ea3c4b"
      },
      "source": [
        "nombre = \"Jose\"\r\n",
        "nombre == \"jose\""
      ],
      "execution_count": null,
      "outputs": [
        {
          "output_type": "execute_result",
          "data": {
            "text/plain": [
              "False"
            ]
          },
          "metadata": {
            "tags": []
          },
          "execution_count": 50
        }
      ]
    },
    {
      "cell_type": "code",
      "metadata": {
        "colab": {
          "base_uri": "https://localhost:8080/"
        },
        "id": "HjqgxjUm7b27",
        "outputId": "4a389e45-7b28-4490-834d-b8d5852c8f1d"
      },
      "source": [
        "edad == \"25\""
      ],
      "execution_count": null,
      "outputs": [
        {
          "output_type": "execute_result",
          "data": {
            "text/plain": [
              "False"
            ]
          },
          "metadata": {
            "tags": []
          },
          "execution_count": 51
        }
      ]
    },
    {
      "cell_type": "code",
      "metadata": {
        "colab": {
          "base_uri": "https://localhost:8080/"
        },
        "id": "ZaN_chwj7f16",
        "outputId": "654e9343-abfa-424b-d4ed-a1be26b9a168"
      },
      "source": [
        "edad == int(\"25\")"
      ],
      "execution_count": null,
      "outputs": [
        {
          "output_type": "execute_result",
          "data": {
            "text/plain": [
              "True"
            ]
          },
          "metadata": {
            "tags": []
          },
          "execution_count": 52
        }
      ]
    },
    {
      "cell_type": "markdown",
      "metadata": {
        "id": "p3VngnVk-qB9"
      },
      "source": [
        "# Estructuras de control 1\r\n"
      ]
    },
    {
      "cell_type": "code",
      "metadata": {
        "colab": {
          "base_uri": "https://localhost:8080/"
        },
        "id": "myXMGTu1-ukh",
        "outputId": "5b8632e7-491e-420c-ef8c-6cd381f42c85"
      },
      "source": [
        "if edad>=18:\r\n",
        "  print(\"Hola\")"
      ],
      "execution_count": null,
      "outputs": [
        {
          "output_type": "stream",
          "text": [
            "Hola\n"
          ],
          "name": "stdout"
        }
      ]
    },
    {
      "cell_type": "code",
      "metadata": {
        "colab": {
          "base_uri": "https://localhost:8080/"
        },
        "id": "9PSnVvC9_But",
        "outputId": "fd291040-0c0e-4bcf-a89c-ae58c3b7c11b"
      },
      "source": [
        "if edad == 18:\r\n",
        "  print(\"Hola\")\r\n",
        "else:\r\n",
        "  print(\"Como\")\r\n",
        "\r\n",
        "print(\"Adios\")"
      ],
      "execution_count": null,
      "outputs": [
        {
          "output_type": "stream",
          "text": [
            "Como\n",
            "Adios\n"
          ],
          "name": "stdout"
        }
      ]
    },
    {
      "cell_type": "code",
      "metadata": {
        "id": "QnrJ44xnLQpv"
      },
      "source": [
        ""
      ],
      "execution_count": null,
      "outputs": []
    },
    {
      "cell_type": "code",
      "metadata": {
        "colab": {
          "base_uri": "https://localhost:8080/"
        },
        "id": "NXOkza2j_ZfP",
        "outputId": "61b4499f-0549-4d77-e2f8-d6b1e85e8ce3"
      },
      "source": [
        "if edad == 18: #and o or edad >18 or edad<100 in range (18,25)\r\n",
        "  print(\"Hola\")\r\n",
        "elif edad >= 25: \r\n",
        "  print(\"Si\")\r\n",
        "else:\r\n",
        "  print(\"hey\")\r\n",
        "\r\n",
        "print(\"Adios\")"
      ],
      "execution_count": null,
      "outputs": [
        {
          "output_type": "stream",
          "text": [
            "Si\n",
            "Adios\n"
          ],
          "name": "stdout"
        }
      ]
    }
  ]
}