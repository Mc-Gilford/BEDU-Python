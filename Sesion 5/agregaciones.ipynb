{
  "nbformat": 4,
  "nbformat_minor": 0,
  "metadata": {
    "kernelspec": {
      "display_name": "Python 3",
      "language": "python",
      "name": "python3"
    },
    "language_info": {
      "codemirror_mode": {
        "name": "ipython",
        "version": 3
      },
      "file_extension": ".py",
      "mimetype": "text/x-python",
      "name": "python",
      "nbconvert_exporter": "python",
      "pygments_lexer": "ipython3",
      "version": "3.8.3"
    },
    "colab": {
      "name": "agregaciones.ipynb",
      "provenance": []
    }
  },
  "cells": [
    {
      "cell_type": "markdown",
      "metadata": {
        "id": "THdYqCkEuztT"
      },
      "source": [
        "## Reto 2: Agregaciones\n",
        "\n",
        "### 1. Objetivos:\n",
        "    - Usar funciones vectorizadas y agregaciones para computar la desviación estándar de un conjunto de datos\n",
        " \n",
        "---\n",
        "    \n",
        "### 2. Desarrollo:"
      ]
    },
    {
      "cell_type": "markdown",
      "metadata": {
        "id": "FErlVK_8uztZ"
      },
      "source": [
        "#### a) Desviación Estándar\n",
        "\n",
        "La desviación estándar es una medida que nos dice qué tan dispersos están los datos con respecto a la media. Es una de las medidas estadísticas más comunes e importantes. En este reto vamos a calcular la desviación estándar de un conjunto de datos usando funciones vectorizadas y agregaciones"
      ]
    },
    {
      "cell_type": "markdown",
      "metadata": {
        "id": "FHiv2YP1uzta"
      },
      "source": [
        "Imagina que has realizado un censo en la H. Universidad de las Américas Unidas. Quieres saber qué tanta dispersión de edades hay en la universidad. Dada la naturaleza de la universidad, hay tanto alumnos extremadamente jóvenes (el más joven tiene 15 años) hasta alumnos bastante mayores (el alumno de más edad tiene 52 años). Para saber qué tan dispersas están las edades de los alumnos, vas a usar la desviación estándar.\n",
        "\n",
        "El algoritmo para sacar la desviación estándar es el siguiente:\n",
        "\n",
        "1. Saca el promedio de tu `Serie`. Esto se hace sumando todos tus datos y luego dividiéndolos entre la cantidad de datos (`n`)\n",
        "2. Después toma tu `Serie` y réstale a cada elemento el promedio. De esta manera obtenemos una nueva `Serie` que contiene las diferencias entre cada dato y el promedio.\n",
        "3. Después eleva tu `Serie` al cuadrado. Esto sirve para acentuar a los datos que están más alejados de tu promedio.\n",
        "4. Ahora suma todos los elementos de tu `Serie` y divídelos entre la cantidad de datos de la `Serie` original menos 1 (`n - 1`).\n",
        "5. Por último, saca la raíz cuadrada del valor obtenido: Ésta es tu desviación estándar.\n",
        "\n",
        "Utiliza aritmética con `Series`, funciones vectorizadas y agregaciones para calcular esta estadística.\n",
        "\n",
        "Asigna tu resultado final a la variable `std`."
      ]
    },
    {
      "cell_type": "code",
      "metadata": {
        "id": "yU2mVzh7uzta"
      },
      "source": [
        "## Realiza aquí los imports que necesites\r\n",
        "import pandas as pd\r\n",
        "import numpy as np"
      ],
      "execution_count": 1,
      "outputs": []
    },
    {
      "cell_type": "code",
      "metadata": {
        "id": "pUxsOMHHuztb"
      },
      "source": [
        "edades = pd.Series([23, 24, 23, 34, 30, 17, 18, 24, 35, 28, 27, 27, 34, 32, 29, 16, 16, 17, 19, 34, 45, 46, 43, 45, 43, 32, 25, 29, 28, 38, 30, 37, 38, 24, 26, 25, 24, 19, 19, 18, 17, 18, 21, 20, 23, 24, 25, 25, 26, 24, 23, 32, 24, 25, 24, 36, 35, 36, 38, 39, 45, 46, 43, 48, 42, 41, 41, 26, 19, 19, 19, 20, 39, 38, 43, 28, 27, 39, 43, 52, 50, 38, 15, 17, 23, 25, 19, 32, 34, 35, 19, 19, 20, 26, 25, 43, 45, 46, 34, 33, 30, 30, 34, 45, 50, 50, 47, 25, 34, 37, 38, 19, 19, 20, 25, 28, 34, 32, 36, 39, 39, 28, 34, 33, 22, 25, 17, 17, 22, 24, 25, 45, 46, 43, 34, 35, 32, 23]) "
      ],
      "execution_count": 2,
      "outputs": []
    },
    {
      "cell_type": "code",
      "metadata": {
        "id": "JBry6ZBmuztc",
        "outputId": "f0d4537b-135e-42a9-fcaa-3115fe247960",
        "colab": {
          "base_uri": "https://localhost:8080/"
        }
      },
      "source": [
        "## Realiza aquí tus cálculos\n",
        "##\n",
        "## ...\n",
        "## ...\n",
        "\n",
        "std = edades.sum()/edades.count()\n",
        "std"
      ],
      "execution_count": 12,
      "outputs": [
        {
          "output_type": "execute_result",
          "data": {
            "text/plain": [
              "30.492753623188406"
            ]
          },
          "metadata": {
            "tags": []
          },
          "execution_count": 12
        }
      ]
    },
    {
      "cell_type": "code",
      "metadata": {
        "id": "Id5MOqyUvk7K",
        "outputId": "7ecdeebb-123f-44d0-f67b-29372d600dd9",
        "colab": {
          "base_uri": "https://localhost:8080/"
        }
      },
      "source": [
        "serie_b = np.subtract(edades, std)\r\n",
        "serie_b"
      ],
      "execution_count": 13,
      "outputs": [
        {
          "output_type": "execute_result",
          "data": {
            "text/plain": [
              "0      -7.492754\n",
              "1      -6.492754\n",
              "2      -7.492754\n",
              "3       3.507246\n",
              "4      -0.492754\n",
              "         ...    \n",
              "133    12.507246\n",
              "134     3.507246\n",
              "135     4.507246\n",
              "136     1.507246\n",
              "137    -7.492754\n",
              "Length: 138, dtype: float64"
            ]
          },
          "metadata": {
            "tags": []
          },
          "execution_count": 13
        }
      ]
    },
    {
      "cell_type": "code",
      "metadata": {
        "id": "kcyPpqTUwEAo",
        "outputId": "f9ae6bed-c84e-4772-a7d5-775250dfb75f",
        "colab": {
          "base_uri": "https://localhost:8080/"
        }
      },
      "source": [
        "serie_b = np.square(serie_b)\r\n",
        "serie_b"
      ],
      "execution_count": 14,
      "outputs": [
        {
          "output_type": "execute_result",
          "data": {
            "text/plain": [
              "0       56.141357\n",
              "1       42.155850\n",
              "2       56.141357\n",
              "3       12.300777\n",
              "4        0.242806\n",
              "          ...    \n",
              "133    156.431212\n",
              "134     12.300777\n",
              "135     20.315270\n",
              "136      2.271792\n",
              "137     56.141357\n",
              "Length: 138, dtype: float64"
            ]
          },
          "metadata": {
            "tags": []
          },
          "execution_count": 14
        }
      ]
    },
    {
      "cell_type": "code",
      "metadata": {
        "id": "hCG2cQ9hwaVw",
        "outputId": "007aa5e4-1505-401b-d61f-9fe844cde7a8",
        "colab": {
          "base_uri": "https://localhost:8080/"
        }
      },
      "source": [
        "desv = serie_b.sum()/(edades.count()-1)\r\n",
        "desv"
      ],
      "execution_count": 15,
      "outputs": [
        {
          "output_type": "execute_result",
          "data": {
            "text/plain": [
              "91.33206389505976"
            ]
          },
          "metadata": {
            "tags": []
          },
          "execution_count": 15
        }
      ]
    },
    {
      "cell_type": "code",
      "metadata": {
        "id": "tyGXc33pw-Kh",
        "outputId": "8e26bcaa-5f40-4a15-994f-4b9113efa1ac",
        "colab": {
          "base_uri": "https://localhost:8080/"
        }
      },
      "source": [
        "std = np.sqrt(desv)\r\n",
        "std"
      ],
      "execution_count": 16,
      "outputs": [
        {
          "output_type": "execute_result",
          "data": {
            "text/plain": [
              "9.55678104254041"
            ]
          },
          "metadata": {
            "tags": []
          },
          "execution_count": 16
        }
      ]
    },
    {
      "cell_type": "markdown",
      "metadata": {
        "id": "8Ys_rm2Zuztc"
      },
      "source": [
        "Pídele a tu experta la función de verificación `comparar_std` (encontrada en el archivo `helpers.py` de la carpeta donde se encuentra este Reto), pégala debajo y corre la celda para verificar tu resultado:"
      ]
    },
    {
      "cell_type": "code",
      "metadata": {
        "id": "g5nY22pCuztc",
        "outputId": "91fa92eb-ce07-4f29-dcfe-c3eb1d6f765f",
        "colab": {
          "base_uri": "https://localhost:8080/"
        }
      },
      "source": [
        "# Pega aquí la función de verificación\n",
        "def comparar_std(edades, std):\n",
        "    std = np.round(std, 6)\n",
        "    espereada =  np.round(edades.std(), 6)\n",
        "    print(f'== Comparación Desviaciones Estándares ==\\n')\n",
        "    print(f'Esperada: {espereada} - Recibida: {std}')\n",
        "    print(f'Cálculo {\"Correcto... Felicidades!\" if espereada == std else \"Incorrecto... Intenta de nuevo\"}')\n",
        "\n",
        "comparar_std(edades, std)"
      ],
      "execution_count": 17,
      "outputs": [
        {
          "output_type": "stream",
          "text": [
            "== Comparación Desviaciones Estándares ==\n",
            "\n",
            "Esperada: 9.556781 - Recibida: 9.556781\n",
            "Cálculo Correcto... Felicidades!\n"
          ],
          "name": "stdout"
        }
      ]
    },
    {
      "cell_type": "code",
      "metadata": {
        "id": "Rjl2nJpZuztc"
      },
      "source": [
        ""
      ],
      "execution_count": null,
      "outputs": []
    }
  ]
}